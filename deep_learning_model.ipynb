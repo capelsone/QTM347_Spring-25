{
  "cells": [
    {
      "cell_type": "markdown",
      "id": "bfb72c2b",
      "metadata": {
        "id": "bfb72c2b"
      },
      "source": [
        "# **Preparing Training Model**"
      ]
    },
    {
      "cell_type": "code",
      "execution_count": null,
      "id": "80636c4c",
      "metadata": {
        "id": "80636c4c"
      },
      "outputs": [],
      "source": [
        "import shutil\n",
        "import random\n",
        "import os"
      ]
    },
    {
      "cell_type": "code",
      "execution_count": null,
      "id": "72bdd907",
      "metadata": {
        "id": "72bdd907"
      },
      "outputs": [],
      "source": [
        "train_audio_spectrograms = 'c:\\\\Users\\\\13015\\\\OneDrive - Emory University\\\\Documents\\\\Emory\\\\Spring_25\\\\QTM 347\\\\qtm347spring2025\\\\birdclef-2025\\\\train_audio_spectrograms'\n",
        "train_audio_split = 'c:\\\\Users\\\\13015\\\\OneDrive - Emory University\\\\Documents\\\\Emory\\\\Spring_25\\\\QTM 347\\\\qtm347spring2025\\\\birdclef-2025\\\\train_audio_split'\n",
        "test_audio_split = 'c:\\\\Users\\\\13015\\\\OneDrive - Emory University\\\\Documents\\\\Emory\\\\Spring_25\\\\QTM 347\\\\qtm347spring2025\\\\birdclef-2025\\\\test_audio_split'\n",
        "\n",
        "os.makedirs(train_audio_split, exist_ok=True)\n",
        "os.makedirs(test_audio_split, exist_ok=True)"
      ]
    },
    {
      "cell_type": "code",
      "execution_count": null,
      "id": "f18547c5",
      "metadata": {
        "id": "f18547c5",
        "outputId": "0ff0e8a0-405e-40d9-c0e9-f1242479082a"
      },
      "outputs": [
        {
          "name": "stdout",
          "output_type": "stream",
          "text": [
            "Split complete!\n"
          ]
        }
      ],
      "source": [
        "for class_name in os.listdir(train_audio_spectrograms):\n",
        "    class_path = os.path.join(train_audio_spectrograms, class_name)\n",
        "    if not os.path.isdir(class_path):\n",
        "        continue\n",
        "\n",
        "    images = [f for f in os.listdir(class_path) if f.endswith('.npy')]\n",
        "    random.shuffle(images)\n",
        "\n",
        "    split_idx = int(0.7 * len(images))\n",
        "    train_images = images[:split_idx]\n",
        "    test_images = images[split_idx:]\n",
        "\n",
        "    os.makedirs(os.path.join(train_audio_split, class_name), exist_ok=True)\n",
        "    os.makedirs(os.path.join(test_audio_split, class_name), exist_ok=True)\n",
        "\n",
        "    for img in train_images:\n",
        "        src = os.path.join(class_path, img)\n",
        "        dst = os.path.join(train_audio_split, class_name, img)\n",
        "        shutil.copy2(src, dst)\n",
        "\n",
        "    for img in test_images:\n",
        "        src = os.path.join(class_path, img)\n",
        "        dst = os.path.join(test_audio_split, class_name, img)\n",
        "        shutil.copy2(src, dst)\n",
        "\n",
        "print('Split complete!')"
      ]
    }
  ],
  "metadata": {
    "kernelspec": {
      "display_name": "base",
      "language": "python",
      "name": "python3"
    },
    "language_info": {
      "codemirror_mode": {
        "name": "ipython",
        "version": 3
      },
      "file_extension": ".py",
      "mimetype": "text/x-python",
      "name": "python",
      "nbconvert_exporter": "python",
      "pygments_lexer": "ipython3",
      "version": "3.11.5"
    },
    "colab": {
      "provenance": []
    }
  },
  "nbformat": 4,
  "nbformat_minor": 5
}